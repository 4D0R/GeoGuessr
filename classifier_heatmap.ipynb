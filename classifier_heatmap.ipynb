{
 "cells": [
  {
   "cell_type": "markdown",
   "metadata": {},
   "source": [
    "LOAD MODEL"
   ]
  },
  {
   "cell_type": "code",
   "execution_count": null,
   "metadata": {},
   "outputs": [],
   "source": [
    "from simple_model import CountryClassifier\n",
    "import tensorflow as tf\n",
    "from huggingface_hub import from_pretrained_keras\n",
    "\n",
    "# model = CountryClassifier(124)\n",
    "# model.load_weights(tf.train.latest_checkpoint(\"./checkpoints/country\"))\n",
    "model = from_pretrained_keras(\"rohanmyer/countryclassifier\")"
   ]
  },
  {
   "cell_type": "code",
   "execution_count": null,
   "metadata": {},
   "outputs": [],
   "source": [
    "# load labels\n",
    "dataset = tf.keras.utils.image_dataset_from_directory(\n",
    "        \"./data/small_scrape/\",\n",
    "    )\n",
    "\n",
    "labels = dataset.class_names"
   ]
  },
  {
   "cell_type": "markdown",
   "metadata": {},
   "source": [
    "CHOOSE RANDOM IMG FROM DATASET"
   ]
  },
  {
   "cell_type": "code",
   "execution_count": null,
   "metadata": {},
   "outputs": [],
   "source": [
    "from google.cloud import storage\n",
    "from random import randint\n",
    "from PIL import Image\n",
    "import io\n",
    "\n",
    "storage_client = storage.Client()\n",
    "bucket = storage_client.get_bucket(\"geoguessr-imgs-2\")\n",
    "blobs = list(bucket.list_blobs(prefix=\"small_scrape/\"))"
   ]
  },
  {
   "cell_type": "code",
   "execution_count": null,
   "metadata": {},
   "outputs": [],
   "source": [
    "img_name = \"small_scrape/Canada /63.74209595x-68.547180.jpg\"\n",
    "\n",
    "# img_blob = blobs[randint(0, len(blobs))].download_as_string() # select random img from dataset\n",
    "img_blob = [b for b in blobs if b.name == img_name][0].download_as_string() # streetview with filepath img_name in dataset\n",
    "\n",
    "stream = io.BytesIO(img_blob)\n",
    "streetview = Image.open(stream).convert(\"RGB\")\n",
    "streetview"
   ]
  },
  {
   "cell_type": "code",
   "execution_count": null,
   "metadata": {},
   "outputs": [],
   "source": [
    "import numpy as np\n",
    "from tensorflow.keras.applications.resnet50 import preprocess_input\n",
    "\n",
    "image = np.array(streetview)\n",
    "image = tf.image.resize(image, [256, 256])\n",
    "image = preprocess_input(tf.expand_dims(image, axis=0))"
   ]
  },
  {
   "cell_type": "markdown",
   "metadata": {},
   "source": [
    "GRAD CAM"
   ]
  },
  {
   "cell_type": "code",
   "execution_count": null,
   "metadata": {},
   "outputs": [],
   "source": [
    "# build model from inputs to output of last convolution layer\n",
    "last_conv_layer = model.layers[0].get_layer(\"conv5_block3_out\")\n",
    "last_conv_layer_model = tf.keras.Model(model.layers[0].inputs, last_conv_layer.output)"
   ]
  },
  {
   "cell_type": "code",
   "execution_count": null,
   "metadata": {},
   "outputs": [],
   "source": [
    "# build model from output of last conv layer to final predictions\n",
    "classifier_input = tf.keras.Input(shape=last_conv_layer.output.shape[1:])\n",
    "x = classifier_input\n",
    "for layer_ind in [-3, -2, -1]:\n",
    "    x = model.layers[0].layers[layer_ind](x)\n",
    "classifier_model = tf.keras.Model(classifier_input, x)"
   ]
  },
  {
   "cell_type": "code",
   "execution_count": null,
   "metadata": {},
   "outputs": [],
   "source": [
    "# get gradients of prediction wrt conv output\n",
    "with tf.GradientTape() as tape:\n",
    "    last_conv_layer_output = last_conv_layer_model(image)\n",
    "    tape.watch(last_conv_layer_output)\n",
    "    preds = classifier_model(last_conv_layer_output)\n",
    "    top_pred_index = tf.argmax(preds[0])\n",
    "    top_class_channel = preds[:, top_pred_index]\n",
    "    \n",
    "grads = tape.gradient(top_class_channel, last_conv_layer_output)\n",
    "pooled_grads = tf.reduce_mean(grads, axis=(0, 1, 2))"
   ]
  },
  {
   "cell_type": "code",
   "execution_count": null,
   "metadata": {},
   "outputs": [],
   "source": [
    "# multiply gradients by its feature map\n",
    "last_conv_layer_output = last_conv_layer_output.numpy()[0]\n",
    "pooled_grads = pooled_grads.numpy()\n",
    "for i in range(pooled_grads.shape[-1]):\n",
    "    last_conv_layer_output[:, :, i] *= pooled_grads[i]\n",
    "    \n",
    "# Average over all the filters to get a single 2D array\n",
    "gradcam = np.mean(last_conv_layer_output, axis=-1)\n",
    "# Clip the values (equivalent to applying ReLU) and normalize values\n",
    "gradcam = np.clip(gradcam, 0, np.max(gradcam)) / np.max(gradcam)"
   ]
  },
  {
   "cell_type": "code",
   "execution_count": null,
   "metadata": {},
   "outputs": [],
   "source": [
    "import matplotlib.pyplot as plt\n",
    "from scipy.ndimage import zoom\n",
    "\n",
    "scale = 256 / gradcam.shape[0]\n",
    "plt.imshow(streetview.resize((256, 256)))\n",
    "plt.imshow(zoom(gradcam, zoom=(scale, scale)), alpha=0.5)"
   ]
  },
  {
   "cell_type": "code",
   "execution_count": null,
   "metadata": {},
   "outputs": [],
   "source": [
    "{labels[i]: preds[0][i] for i in np.argsort(preds[0])[-5:]}"
   ]
  }
 ],
 "metadata": {
  "kernelspec": {
   "display_name": "Python 3 (ipykernel)",
   "language": "python",
   "name": "python3"
  },
  "language_info": {
   "codemirror_mode": {
    "name": "ipython",
    "version": 3
   },
   "file_extension": ".py",
   "mimetype": "text/x-python",
   "name": "python",
   "nbconvert_exporter": "python",
   "pygments_lexer": "ipython3",
   "version": "3.10.9"
  },
  "vscode": {
   "interpreter": {
    "hash": "3787e0c0a1f4cd6af0491d39cf58e186faeadbebccf214d31c28797118c8e4cb"
   }
  }
 },
 "nbformat": 4,
 "nbformat_minor": 2
}
