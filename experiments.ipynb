{
 "cells": [
  {
   "cell_type": "code",
   "execution_count": 4,
   "metadata": {},
   "outputs": [],
   "source": [
    "from selenium import webdriver\n",
    "from selenium.webdriver.common.by import By\n",
    "from constants import countries\n",
    "from pathlib import Path\n",
    "from time import sleep\n",
    "from multiprocessing import Pool\n",
    "import os"
   ]
  },
  {
   "cell_type": "code",
   "execution_count": 5,
   "metadata": {},
   "outputs": [],
   "source": [
    "options = webdriver.ChromeOptions()\n",
    "options.add_argument(\"--headless\")\n",
    "driver = webdriver.Chrome(options=options)\n",
    "\n",
    "# Go to country\n",
    "sleep(1)\n",
    "country_code = 'us'\n",
    "driver.get(f\"https://randomstreetview.com/{country_code}\")\n",
    "driver.set_window_size(800, 450)\n",
    "sleep(10)"
   ]
  },
  {
   "cell_type": "code",
   "execution_count": 6,
   "metadata": {},
   "outputs": [],
   "source": [
    "results = Path(\"./data/scraped_images\")\n",
    "os.makedirs(results, exist_ok=True)\n",
    "\n",
    "country_path = Path(countries[country_code])\n",
    "os.makedirs(results / country_path, exist_ok=True)"
   ]
  },
  {
   "cell_type": "code",
   "execution_count": 7,
   "metadata": {},
   "outputs": [],
   "source": [
    "# Remove watermarks from page\n",
    "for id in [\n",
    "    \"controls\",\n",
    "    \"map_canvas\",\n",
    "    \"adnotice\",\n",
    "    \"ad\",\n",
    "    \"address\",\n",
    "    \"minimaximize\",\n",
    "    \"share\",\n",
    "]:\n",
    "    driver.execute_script(f\"document.getElementById('{id}').style.opacity = 0;\")\n",
    "for className in [\"gm-fullscreen-control\", \"intro_splash\", \"gmnoprint\"]:\n",
    "    driver.execute_script(\n",
    "        f\"Array.prototype.map.call(document.getElementsByClassName('{className}'), x => x.style.opacity = 0);\"\n",
    "    )"
   ]
  },
  {
   "cell_type": "code",
   "execution_count": 8,
   "metadata": {},
   "outputs": [],
   "source": [
    "for className in [\"gm-style\"]:\n",
    "    driver.execute_script(\n",
    "        f\"Array.prototype.map.call(document.getElementsByClassName('{className}'), x => x.style.display = 'flex');\"\n",
    "    )\n",
    "# driver.save_screenshot(results / country_path / f\"{curr_img}.jpg\")\n",
    "\n",
    "\n",
    "# driver.find_element(By.ID, \"next\").click()"
   ]
  },
  {
   "cell_type": "code",
   "execution_count": 20,
   "metadata": {},
   "outputs": [
    {
     "name": "stdout",
     "output_type": "stream",
     "text": [
      "{'formatted_address': '6113-6299 County Highway 17, Stacy, MN 55079, USA', 'lat': '45.45093155', 'lng': '-92.983833'}\n",
      "45.45093155x-92.983833\n"
     ]
    }
   ],
   "source": [
    "location_data = driver.execute_script(f\"return randomLocations.{country_code}\")\n",
    "print(a[0])\n",
    "curr_img = f\"{a[0]['lat']}x{a[0]['lng']}\"\n",
    "print(curr_img)\n",
    "# driver.save_screenshot(results / country_path / f\"{curr_img}.jpg\")"
   ]
  }
 ],
 "metadata": {
  "kernelspec": {
   "display_name": "csci1470",
   "language": "python",
   "name": "python3"
  },
  "language_info": {
   "codemirror_mode": {
    "name": "ipython",
    "version": 3
   },
   "file_extension": ".py",
   "mimetype": "text/x-python",
   "name": "python",
   "nbconvert_exporter": "python",
   "pygments_lexer": "ipython3",
   "version": "3.10.8 | packaged by conda-forge | (main, Nov 22 2022, 08:25:29) [Clang 14.0.6 ]"
  },
  "orig_nbformat": 4,
  "vscode": {
   "interpreter": {
    "hash": "3787e0c0a1f4cd6af0491d39cf58e186faeadbebccf214d31c28797118c8e4cb"
   }
  }
 },
 "nbformat": 4,
 "nbformat_minor": 2
}
